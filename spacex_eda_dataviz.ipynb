{
 "cells": [
  {
   "cell_type": "markdown",
   "id": "a5b6f7aa",
   "metadata": {},
   "source": [
    "# SpaceX EDA & Data Visualization\n",
    "\n",
    "_Exported: 2025-10-23 22:59 UTC_"
   ]
  },
  {
   "cell_type": "markdown",
   "id": "37789b49",
   "metadata": {},
   "source": [
    "## EDA & Data Visualization (Module 2)\n",
    "Replicates the lab tasks: scatter plots, categorical plots, success by orbit, one‑hot encoding to build `features_one_hot`."
   ]
  },
  {
   "cell_type": "code",
   "execution_count": null,
   "id": "472a7442",
   "metadata": {},
   "outputs": [],
   "source": [
    "import pandas as pd\n",
    "import matplotlib.pyplot as plt\n",
    "import seaborn as sns\n",
    "\n",
    "sns.set()\n",
    "\n",
    "URL = \"https://cf-courses-data.s3.us.cloud-object-storage.appdomain.cloud/IBM-DS0321EN-SkillsNetwork/datasets/dataset_part_2.csv\"\n",
    "df = pd.read_csv(URL)\n",
    "df.head()\n"
   ]
  },
  {
   "cell_type": "code",
   "execution_count": null,
   "id": "8eac3c7c",
   "metadata": {},
   "outputs": [],
   "source": [
    "# Overview scatter: FlightNumber vs PayloadMass (hue=Class)\n",
    "plt.figure(figsize=(12,4))\n",
    "sns.scatterplot(data=df, x=\"FlightNumber\", y=\"PayloadMass\", hue=\"Class\")\n",
    "plt.xlabel(\"Flight Number\", fontsize=12)\n",
    "plt.ylabel(\"Pay load Mass (kg)\", fontsize=12)\n",
    "plt.show()\n"
   ]
  },
  {
   "cell_type": "code",
   "execution_count": null,
   "id": "203a3cae",
   "metadata": {},
   "outputs": [],
   "source": [
    "# TASK 1 — catplot: FlightNumber vs LaunchSite, hue=Class\n",
    "sns.catplot(y=\"LaunchSite\", x=\"FlightNumber\", hue=\"Class\", data=df, aspect=1)\n",
    "plt.ylabel(\"Launch Site\", fontsize=15)\n",
    "plt.xlabel(\"Flight Number\", fontsize=15)\n",
    "plt.show()\n"
   ]
  },
  {
   "cell_type": "code",
   "execution_count": null,
   "id": "fc369ce8",
   "metadata": {},
   "outputs": [],
   "source": [
    "# TASK 2 — catplot: PayloadMass vs LaunchSite, hue=Class\n",
    "sns.catplot(y=\"LaunchSite\", x=\"PayloadMass\", hue=\"Class\", data=df, aspect=1)\n",
    "plt.ylabel(\"Launch Site\", fontsize=15)\n",
    "plt.xlabel(\"Pay load Mass (kg)\", fontsize=15)\n",
    "plt.show()\n"
   ]
  },
  {
   "cell_type": "code",
   "execution_count": null,
   "id": "060f550a",
   "metadata": {},
   "outputs": [],
   "source": [
    "# TASK 3 — success rate per Orbit (mean of Class) as bar chart\n",
    "orbit_success = df.groupby(\"Orbit\")[\"Class\"].mean().sort_values(ascending=False)\n",
    "plt.figure(figsize=(10,4))\n",
    "orbit_success.plot(kind=\"bar\")\n",
    "plt.title(\"Success rate per Orbit\")\n",
    "plt.ylabel(\"Success rate\")\n",
    "plt.show()\n"
   ]
  },
  {
   "cell_type": "code",
   "execution_count": null,
   "id": "0a4e6628",
   "metadata": {},
   "outputs": [],
   "source": [
    "# TASK 4 — FlightNumber vs Orbit, hue=Class\n",
    "sns.catplot(y=\"Orbit\", x=\"FlightNumber\", hue=\"Class\", data=df, aspect=1)\n",
    "plt.ylabel(\"Orbit\", fontsize=15)\n",
    "plt.xlabel(\"Flight Number\", fontsize=15)\n",
    "plt.show()\n"
   ]
  },
  {
   "cell_type": "code",
   "execution_count": null,
   "id": "a606d7c3",
   "metadata": {},
   "outputs": [],
   "source": [
    "# TASK 5 — PayloadMass vs Orbit, hue=Class\n",
    "sns.catplot(y=\"Orbit\", x=\"PayloadMass\", hue=\"Class\", data=df, aspect=1)\n",
    "plt.ylabel(\"Orbit\", fontsize=15)\n",
    "plt.xlabel(\"Pay load Mass (kg)\", fontsize=15)\n",
    "plt.show()\n"
   ]
  },
  {
   "cell_type": "code",
   "execution_count": null,
   "id": "3d12045a",
   "metadata": {},
   "outputs": [],
   "source": [
    "# TASK 6 — Success trend by year\n",
    "year = [int(str(d).split(\"-\")[0]) for d in df[\"Date\"]]\n",
    "df_year = df.copy(); df_year[\"Year\"] = year\n",
    "\n",
    "ys = df_year.groupby(\"Year\")[\"Class\"].mean()\n",
    "plt.figure(figsize=(10,4))\n",
    "ys.plot(marker=\"o\")\n",
    "plt.title(\"Average success rate by Year\")\n",
    "plt.ylabel(\"Success rate\")\n",
    "plt.show()\n"
   ]
  },
  {
   "cell_type": "code",
   "execution_count": null,
   "id": "42c72006",
   "metadata": {},
   "outputs": [],
   "source": [
    "# Features selection\n",
    "features = df[[\"FlightNumber\",\"PayloadMass\",\"Orbit\",\"LaunchSite\",\"Flights\",\"GridFins\",\n",
    "               \"Reused\",\"Legs\",\"LandingPad\",\"Block\",\"ReusedCount\",\"Serial\"]].copy()\n",
    "features.head()\n"
   ]
  },
  {
   "cell_type": "code",
   "execution_count": null,
   "id": "d990df4c",
   "metadata": {},
   "outputs": [],
   "source": [
    "# One‑hot encode categorical columns\n",
    "features_one_hot = pd.get_dummies(features, columns=[\"Orbit\",\"LaunchSite\",\"LandingPad\",\"Serial\"])\n",
    "features_one_hot.shape\n"
   ]
  },
  {
   "cell_type": "code",
   "execution_count": null,
   "id": "f0eef771",
   "metadata": {},
   "outputs": [],
   "source": [
    "# Cast to float64 & export\n",
    "features_one_hot = features_one_hot.astype(\"float64\")\n",
    "features_one_hot.to_csv(\"dataset_part_3.csv\", index=False)\n",
    "\"Saved dataset_part_3.csv with shape: \" + str(features_one_hot.shape)\n"
   ]
  },
  {
   "cell_type": "markdown",
   "id": "1306965a",
   "metadata": {},
   "source": [
    "### Quiz tie‑ins\n",
    "- Bar chart best for: **Categorical** data\n",
    "- One‑hot encoded columns (course snapshot): **83**\n",
    "- Correct `catplot` snippet for FlightNumber vs LaunchSite with hue=Class is the **second** option in your list"
   ]
  }
 ],
 "metadata": {},
 "nbformat": 4,
 "nbformat_minor": 5
}
