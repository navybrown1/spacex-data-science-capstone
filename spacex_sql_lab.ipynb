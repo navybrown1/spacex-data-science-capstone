{
 "cells": [
  {
   "cell_type": "markdown",
   "id": "bce74243",
   "metadata": {},
   "source": [
    "# SpaceX SQL Lab — Queries & Runner\n",
    "\n",
    "_Exported: 2025-10-23 22:59 UTC_"
   ]
  },
  {
   "cell_type": "markdown",
   "id": "4b854e04",
   "metadata": {},
   "source": [
    "## SQL Lab (Module 2) — SPACEXTBL\n",
    "Below are runnable examples using SQLite from the SpaceX CSV, followed by the exact queries for the MCQs."
   ]
  },
  {
   "cell_type": "code",
   "execution_count": null,
   "id": "55699fa8",
   "metadata": {},
   "outputs": [],
   "source": [
    "# OPTIONAL: create SQLite db from the CSV to run the queries locally\n",
    "import pandas as pd, sqlite3, os, io, requests\n",
    "\n",
    "CSV_URL = \"https://cf-courses-data.s3.us.cloud-object-storage.appdomain.cloud/IBM-DS0321EN-SkillsNetwork/labs/module_2/data/Spacex.csv\"\n",
    "df = pd.read_csv(CSV_URL)\n",
    "conn = sqlite3.connect(\"spacex.db\")\n",
    "df.to_sql(\"SPACEXTBL\", conn, if_exists=\"replace\", index=False)\n",
    "\n",
    "# Example sanity check\n",
    "pd.read_sql_query(\"SELECT COUNT(*) AS rows FROM SPACEXTBL;\", conn)\n"
   ]
  },
  {
   "cell_type": "markdown",
   "id": "da0f8fec",
   "metadata": {},
   "source": [
    "### MCQ correct answers\n",
    "**Q1 (retrieve up to 20 records)**\n",
    "```sql\n",
    "SELECT * FROM SPACEXTBL LIMIT 20;\n",
    "```\n",
    "**Q2 (minimum payload mass)**\n",
    "```sql\n",
    "SELECT MIN(payload_mass__kg_) FROM SPACEXTBL;\n",
    "```\n",
    "**Q3 (total payload mass with alias)**\n",
    "```sql\n",
    "SELECT SUM(payload_mass__kg_) AS Total_Payload_Mass FROM SPACEXTBL;\n",
    "```\n",
    "**Q4 (mission outcome counts per launch site)**\n",
    "```sql\n",
    "SELECT COUNT(\"Mission_Outcome\") AS MISSION_OUTCOME_COUNT, Launch_Site\n",
    "FROM SPACEXTBL\n",
    "GROUP BY \"Launch_Site\";\n",
    "```\n",
    "**Q5 (launch sites options)** → **None of the Above**\n",
    "\n",
    "_Canonical set in the dataset: `CCAFS SLC 40`, `KSC LC 39A`, `VAFB SLC 4E`._"
   ]
  }
 ],
 "metadata": {},
 "nbformat": 4,
 "nbformat_minor": 5
}
