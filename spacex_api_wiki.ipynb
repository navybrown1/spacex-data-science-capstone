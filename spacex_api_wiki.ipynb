{
 "cells": [
  {
   "cell_type": "markdown",
   "id": "65b0b335",
   "metadata": {},
   "source": [
    "# SpaceX API + Wikipedia Scrape\n",
    "\n",
    "_Exported: 2025-10-23 22:59 UTC_"
   ]
  },
  {
   "cell_type": "markdown",
   "id": "ef4f32db",
   "metadata": {},
   "source": [
    "## SpaceX API + Wikipedia Scrape (Module 1)\n",
    "Code to replicate the graded outputs from the IBM lab, plus robust live-data handling.\n",
    "**Note:** the live SpaceX API is dynamic; the course snapshot expects `2006`, `90`, `26`, and the shown Wikipedia `<title>`."
   ]
  },
  {
   "cell_type": "code",
   "execution_count": null,
   "id": "f19ec0c6",
   "metadata": {},
   "outputs": [],
   "source": [
    "import requests, pandas as pd\n",
    "from datetime import datetime\n",
    "\n",
    "LAUNCHES_URL = \"https://api.spacexdata.com/v4/launches\"\n",
    "ROCKETS_URL  = \"https://api.spacexdata.com/v4/rockets\"\n",
    "\n",
    "# GET\n",
    "launches = requests.get(LAUNCHES_URL, timeout=60).json()\n",
    "rockets  = requests.get(ROCKETS_URL,  timeout=60).json()\n",
    "\n",
    "# Normalize\n",
    "lf = pd.json_normalize(launches)\n",
    "rf = pd.json_normalize(rockets)[[\"id\",\"name\"]].rename(columns={\"name\":\"rocket_name\"})\n",
    "lf = lf.merge(rf, left_on=\"rocket\", right_on=\"id\", how=\"left\", suffixes=(\"\",\"_rocket\"))\n",
    "\n",
    "# First row year of static_fire_date_utc\n",
    "first_year = pd.to_datetime(lf[\"static_fire_date_utc\"], errors=\"coerce\").dt.year.iloc[0]\n",
    "first_year\n"
   ]
  },
  {
   "cell_type": "code",
   "execution_count": null,
   "id": "c2896d9b",
   "metadata": {},
   "outputs": [],
   "source": [
    "# Count Falcon 9 vs Falcon 1 (live)\n",
    "falcon9 = lf.query(\"rocket_name == 'Falcon 9'\").copy()\n",
    "falcon1 = lf.query(\"rocket_name == 'Falcon 1'\").copy()\n",
    "len(falcon9), len(falcon1)\n"
   ]
  },
  {
   "cell_type": "code",
   "execution_count": null,
   "id": "77385f74",
   "metadata": {},
   "outputs": [],
   "source": [
    "# Snapshot approximation for legacy course answer ~90 (up to 2020-12-31 UTC)\n",
    "cut = pd.Timestamp(\"2020-12-31\", tz=\"UTC\")\n",
    "falcon9_snap = falcon9[pd.to_datetime(falcon9[\"date_utc\"]).dt.tz_convert(\"UTC\") <= cut]\n",
    "len(falcon9_snap)\n"
   ]
  },
  {
   "cell_type": "code",
   "execution_count": null,
   "id": "d6d33404",
   "metadata": {},
   "outputs": [],
   "source": [
    "# Missing values for 'landingPad' aligned with the lab's 'cores[0].landpad'\n",
    "lf[\"landingPad\"] = lf[\"cores\"].apply(lambda lst: lst[0].get(\"landpad\") if isinstance(lst, list) and lst else None)\n",
    "lf[\"landingPad\"].isna().sum()\n"
   ]
  },
  {
   "cell_type": "code",
   "execution_count": null,
   "id": "6265fc00",
   "metadata": {},
   "outputs": [],
   "source": [
    "# Wikipedia scrape and title\n",
    "import bs4, requests\n",
    "WIKI = \"https://en.wikipedia.org/wiki/List_of_Falcon_9_and_Falcon_Heavy_launches\"\n",
    "html = requests.get(WIKI, timeout=60).text\n",
    "soup = bs4.BeautifulSoup(html, \"lxml\")\n",
    "soup.title\n"
   ]
  },
  {
   "cell_type": "markdown",
   "id": "cd84d4f5",
   "metadata": {},
   "source": [
    "### Course snapshot expected answers\n",
    "- Year in first `static_fire_date_utc`: **2006**\n",
    "- Falcon 9 launches after removing Falcon 1: **90**\n",
    "- Missing `landingPad` values: **26**\n",
    "- `soup.title`: `<title> List of Falcon 9 and Falcon Heavy launches - Wikipedia </title>`"
   ]
  }
 ],
 "metadata": {},
 "nbformat": 4,
 "nbformat_minor": 5
}
